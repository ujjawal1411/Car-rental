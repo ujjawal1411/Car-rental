{
 "cells": [
  {
   "cell_type": "code",
   "execution_count": 6,
   "id": "2c44dfa1-8dbc-4150-a9d0-3d6c5d39f803",
   "metadata": {},
   "outputs": [],
   "source": [
    "class customer:\n",
    "    def __init__(self):\n",
    "        cars = self.cars \n",
    "        rent_basis = self.basis\n",
    "        rent_time = self.time"
   ]
  },
  {
   "cell_type": "code",
   "execution_count": 8,
   "id": "4f8a66e3-7ff6-4fda-93fe-0b782b441fe2",
   "metadata": {},
   "outputs": [],
   "source": [
    "cars = 0\n",
    "rent_basis = 0\n",
    "rent_time = None"
   ]
  },
  {
   "cell_type": "code",
   "execution_count": 10,
   "id": "c27fad27-10b5-4bcb-b362-4c1d35863bb3",
   "metadata": {},
   "outputs": [],
   "source": [
    "def request_cars(self):\n",
    "    car_num = int(input(\"how many cars you want?\"))\n",
    "    if car_num <=0:\n",
    "        print(\" number of cars should be greater then zero\")\n",
    "        return None\n",
    "    else:\n",
    "            cars = car_num\n",
    "            return cars\n",
    "        "
   ]
  },
  {
   "cell_type": "code",
   "execution_count": 11,
   "id": "37dc070d-e491-4f54-8ae6-32cd395dd941",
   "metadata": {},
   "outputs": [],
   "source": [
    " def return_cars(self):\n",
    "        if rent_time and rent_basis and cars:\n",
    "            return rent_time, rent_basis, cars\n",
    "        else:\n",
    "            return None, None, None"
   ]
  },
  {
   "cell_type": "code",
   "execution_count": null,
   "id": "97c48c44-ffb7-4d5a-b04f-acb3d7e6b6ca",
   "metadata": {},
   "outputs": [],
   "source": []
  }
 ],
 "metadata": {
  "kernelspec": {
   "display_name": "Python 3 (ipykernel)",
   "language": "python",
   "name": "python3"
  },
  "language_info": {
   "codemirror_mode": {
    "name": "ipython",
    "version": 3
   },
   "file_extension": ".py",
   "mimetype": "text/x-python",
   "name": "python",
   "nbconvert_exporter": "python",
   "pygments_lexer": "ipython3",
   "version": "3.13.1"
  }
 },
 "nbformat": 4,
 "nbformat_minor": 5
}
