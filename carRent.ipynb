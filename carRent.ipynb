{
 "cells": [
  {
   "cell_type": "code",
   "execution_count": 1,
   "id": "be32a825-caf6-475c-8639-0d87c98f595f",
   "metadata": {},
   "outputs": [],
   "source": [
    "from datetime import datetime"
   ]
  },
  {
   "cell_type": "code",
   "execution_count": 2,
   "id": "06c20864-43e9-406e-858c-cf2b7be74673",
   "metadata": {},
   "outputs": [],
   "source": [
    "class carRental:\n",
    "    def __init__(self , stock=0):\n",
    "        stock = self.stock\n",
    "    def display_cars(self):\n",
    "        print(f\"we have {stock} cars available for rent\")\n",
    "        return stock\n",
    "    "
   ]
  },
  {
   "cell_type": "code",
   "execution_count": 3,
   "id": "13a5a116-a1ef-4297-bcdd-573c706eb22f",
   "metadata": {},
   "outputs": [],
   "source": [
    "def hourly_rent (self, car_num):\n",
    "    if car_num <=0:\n",
    "        print(\"car should not be zero\")\n",
    "    elif car_num> stock:\n",
    "        print(f\"we are sorry currently we have only {stock} cars available\")\n",
    "    else:\n",
    "        now = datetime.now()\n",
    "        stock -= car_num\n",
    "        print(f\"car ranted{car_num} for hourly basis\")\n",
    "        return now"
   ]
  },
  {
   "cell_type": "code",
   "execution_count": 4,
   "id": "93d0a9e0-8004-47d2-86bb-48b5634cd4bd",
   "metadata": {},
   "outputs": [],
   "source": [
    "def daily_rent(self , car_num):\n",
    "    if car_num <=0:\n",
    "        print(\"car should not be zero\")\n",
    "    elif car_num> stock:\n",
    "        print(f\"we are sorry currently we have only {stock} cars available\")\n",
    "    else:\n",
    "        now = datetime.now()\n",
    "        stock -= car_num\n",
    "        print(f\"car ranted{car_num} for daily basis\")\n",
    "        return now"
   ]
  },
  {
   "cell_type": "code",
   "execution_count": 32,
   "id": "096c37f4-e2f6-48fb-82b1-cf37e010e3b3",
   "metadata": {},
   "outputs": [],
   "source": [
    "def weekly_rent(self , car_num):\n",
    "    if car_num <=0:\n",
    "        print(\"car should not be zero\")\n",
    "    elif car_num> stock:\n",
    "        print(f\"we are sorry currently we have only {stock} cars available\")\n",
    "    else:\n",
    "        now = datetime.now()\n",
    "        stock -= car_num\n",
    "        print(f\"car ranted{car_num} for weekly basis\")\n",
    "        return now"
   ]
  },
  {
   "cell_type": "code",
   "execution_count": 35,
   "id": "c9128660-2467-42b7-a861-4281731a18d7",
   "metadata": {},
   "outputs": [],
   "source": [
    "def return_car( self, request):\n",
    "    rent_time, rent_basis, car_num = request\n",
    "    if rent_time and rent_basis and car_num:\n",
    "        now = datetime.now()\n",
    "        return_period = ( now- rent_time).seconds\n",
    "\n",
    "        bill = 0\n",
    "        if rent_basis == 1:\n",
    "            bill = round(rent_period/3600)*100*car_num\n",
    "        elif rent_basis ==2:\n",
    "            bill = round(rent_period/(24*3600))*1000*car_num\n",
    "        elif rent_basis ==3:\n",
    "            bill = round(rent_period/(24*3600*7))*1000*car_num\n",
    "            stock+=car_num\n",
    "            print(f\"Thank you, hope you like the car. Your bill is ₹{bill}\")\n",
    "            return bill\n",
    "        else :\n",
    "            print(\"invalid request\")\n",
    "            return none\n",
    "        "
   ]
  },
  {
   "cell_type": "code",
   "execution_count": null,
   "id": "89397da3-4a82-4065-b29e-dd369f54c6dd",
   "metadata": {},
   "outputs": [],
   "source": []
  }
 ],
 "metadata": {
  "kernelspec": {
   "display_name": "Python 3 (ipykernel)",
   "language": "python",
   "name": "python3"
  },
  "language_info": {
   "codemirror_mode": {
    "name": "ipython",
    "version": 3
   },
   "file_extension": ".py",
   "mimetype": "text/x-python",
   "name": "python",
   "nbconvert_exporter": "python",
   "pygments_lexer": "ipython3",
   "version": "3.13.1"
  }
 },
 "nbformat": 4,
 "nbformat_minor": 5
}
