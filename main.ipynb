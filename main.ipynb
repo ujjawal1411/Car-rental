{
 "cells": [
  {
   "cell_type": "code",
   "execution_count": 1,
   "id": "a1b54dd7-5887-4589-bed0-a34c5cac99b5",
   "metadata": {},
   "outputs": [],
   "source": [
    "from carRent import CarRental\n",
    "from customer import Customer"
   ]
  },
  {
   "cell_type": "code",
   "execution_count": 4,
   "id": "486a2767-54ba-4939-a7a1-0fa5846f08c4",
   "metadata": {},
   "outputs": [
    {
     "name": "stdout",
     "output_type": "stream",
     "text": [
      "\n",
      "Welcome to the Car Rental Service!\n",
      "1. Display available cars\n",
      "2. Rent a car hourly (₹100 per hour)\n",
      "3. Rent a car daily (₹1000 per day)\n",
      "4. Rent a car weekly (₹5000 per week)\n",
      "5. Return a car\n",
      "6. Exit\n"
     ]
    },
    {
     "name": "stdin",
     "output_type": "stream",
     "text": [
      "Enter your choice:  1\n"
     ]
    },
    {
     "name": "stdout",
     "output_type": "stream",
     "text": [
      "We have 10 cars available for rent.\n",
      "\n",
      "Welcome to the Car Rental Service!\n",
      "1. Display available cars\n",
      "2. Rent a car hourly (₹100 per hour)\n",
      "3. Rent a car daily (₹1000 per day)\n",
      "4. Rent a car weekly (₹5000 per week)\n",
      "5. Return a car\n",
      "6. Exit\n"
     ]
    },
    {
     "name": "stdin",
     "output_type": "stream",
     "text": [
      "Enter your choice:  6\n"
     ]
    },
    {
     "name": "stdout",
     "output_type": "stream",
     "text": [
      "Thank you for using the Car Rental Service!\n"
     ]
    }
   ],
   "source": [
    "def car_rental_interface():\n",
    "    rental_service = CarRental(stock=10)  # Initializing with 10 cars\n",
    "    customer = Customer()  # Initialize a customer object\n",
    "\n",
    "    while True:\n",
    "        print(\"\\nWelcome to the Car Rental Service!\")\n",
    "        print(\"1. Display available cars\")\n",
    "        print(\"2. Rent a car hourly (₹100 per hour)\")\n",
    "        print(\"3. Rent a car daily (₹1000 per day)\")\n",
    "        print(\"4. Rent a car weekly (₹5000 per week)\")\n",
    "        print(\"5. Return a car\")\n",
    "        print(\"6. Exit\")\n",
    "\n",
    "        choice = int(input(\"Enter your choice: \"))\n",
    "\n",
    "        if choice == 1:\n",
    "            rental_service.display_cars()\n",
    "        elif choice in [2, 3, 4]:\n",
    "            car_num = customer.request_cars()  # Customer requests cars\n",
    "            if car_num:\n",
    "                if choice == 2:  # Hourly rental\n",
    "                    customer.rent_time = rental_service.hourly_rent(car_num)\n",
    "                    customer.rent_basis = 1\n",
    "                elif choice == 3:  # Daily rental\n",
    "                    customer.rent_time = rental_service.daily_rent(car_num)\n",
    "                    customer.rent_basis = 2\n",
    "                elif choice == 4:  # Weekly rental\n",
    "                    customer.rent_time = rental_service.weekly_rent(car_num)\n",
    "                    customer.rent_basis = 3\n",
    "        elif choice == 5:\n",
    "            rent_details = customer.return_cars()\n",
    "            if rent_details:\n",
    "                bill = rental_service.return_car(rent_details)\n",
    "                customer.cars = 0  # Reset customer details after return\n",
    "                customer.rent_basis = 0\n",
    "                customer.rent_time = None\n",
    "            else:\n",
    "                print(\"You did not rent any cars.\")\n",
    "        elif choice == 6:\n",
    "            print(\"Thank you for using the Car Rental Service!\")\n",
    "            break\n",
    "        else:\n",
    "            print(\"Invalid choice. Please try again.\")\n",
    "\n",
    "\n",
    "if __name__ == \"__main__\":\n",
    "    car_rental_interface()"
   ]
  },
  {
   "cell_type": "code",
   "execution_count": null,
   "id": "523dda11-09a0-4e06-9e81-27a7b8630a46",
   "metadata": {},
   "outputs": [],
   "source": []
  }
 ],
 "metadata": {
  "kernelspec": {
   "display_name": "Python 3 (ipykernel)",
   "language": "python",
   "name": "python3"
  },
  "language_info": {
   "codemirror_mode": {
    "name": "ipython",
    "version": 3
   },
   "file_extension": ".py",
   "mimetype": "text/x-python",
   "name": "python",
   "nbconvert_exporter": "python",
   "pygments_lexer": "ipython3",
   "version": "3.12.3"
  }
 },
 "nbformat": 4,
 "nbformat_minor": 5
}
